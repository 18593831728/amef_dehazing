{
 "cells": [
  {
   "cell_type": "code",
   "execution_count": 1,
   "metadata": {
    "collapsed": true
   },
   "outputs": [],
   "source": [
    "import os\n",
    "\n",
    "import matplotlib.pyplot as plt\n",
    "import numpy as np\n",
    "\n",
    "from skimage import io\n",
    "from skimage.measure import regionprops"
   ]
  },
  {
   "cell_type": "code",
   "execution_count": 2,
   "metadata": {
    "collapsed": false
   },
   "outputs": [],
   "source": [
    "path_to_melanoma_ims = 'data/training_data/melanoma/images/'\n",
    "path_to_melanoma_masks = 'data/training_data/melanoma/masks/'\n",
    "path_to_keratosis_ims = 'data/training_data/keratosis/images/'\n",
    "path_to_keratosis_masks = 'data/training_data/keratosis/masks/'"
   ]
  },
  {
   "cell_type": "code",
   "execution_count": 3,
   "metadata": {
    "collapsed": true
   },
   "outputs": [],
   "source": [
    "melanoma_im_list = os.listdir(path_to_melanoma_ims)\n",
    "keratosis_im_list = os.listdir(path_to_keratosis_ims)"
   ]
  },
  {
   "cell_type": "markdown",
   "metadata": {},
   "source": [
    "You probably want to put this functions inside a separate module that you can import, something called for instance ``extract_features_from_skin_image``. Note that this functions accept a ``skin_image`` object."
   ]
  },
  {
   "cell_type": "code",
   "execution_count": 4,
   "metadata": {
    "collapsed": true
   },
   "outputs": [],
   "source": [
    "def compute_eccentricity(skin_image):\n",
    "    '''\n",
    "    This function expects a skin_image object, which contains a mask with the lesion boundary\n",
    "    '''\n",
    "    regions = regionprops(skin_image.mask.astype(int), cache=False) # avoids computing all props\n",
    "    return regions[0].eccentricity\n",
    "\n",
    "def compute_diameter(skin_image):\n",
    "    '''\n",
    "    This function expects a skin_image object, which contains a mask with the lesion boundary\n",
    "    '''\n",
    "    regions = regionprops(skin_image.mask.astype(int), cache=False) # avoids computing all props\n",
    "    return regions[0].equivalent_diameter"
   ]
  },
  {
   "cell_type": "markdown",
   "metadata": {},
   "source": [
    "This is the defintion of a ``skin_image object``. It holds the relevant data (image, binary mask with lesion area, and diagnosis - groundtruth). These are loaded at instanatiation time by the constructor, thanks to the image name, which is passed as a parameter. The relative path to the data is a global variable defined above."
   ]
  },
  {
   "cell_type": "code",
   "execution_count": 5,
   "metadata": {
    "collapsed": false
   },
   "outputs": [],
   "source": [
    "class skin_image:   \n",
    "    def __init__(self, name, diagnosis):\n",
    "        self.name = name\n",
    "        if diagnosis == 'melanoma':\n",
    "            path_ims = path_to_melanoma_ims\n",
    "            path_masks = path_to_melanoma_masks\n",
    "        elif diagnosis == 'keratosis':\n",
    "            path_ims = path_to_keratosis_ims\n",
    "            path_masks = path_to_keratosis_masks\n",
    "        elif diagnosis == 'unkown':\n",
    "            # this is for test images\n",
    "            path_ims = path_to_test_ims\n",
    "            path_masks = path_to_test_masks\n",
    "        else:\n",
    "            print('invalid diagnosis')\n",
    "        \n",
    "        self.image = io.imread(path_ims+name)\n",
    "        self.mask = io.imread(path_masks+name[:-4]+'.png', dtype=bool)\n",
    "        \n",
    "        # AVAILABLE FEATURES: These are place-holders for features that you may want to compute out of each image\n",
    "        self.eccentricity = None\n",
    "        self.diameter = None\n",
    "        \n",
    "    # The skin_image object knows how to compute these features. \n",
    "    # It does that by calling to the functions defined in the previous cells    \n",
    "    def load_eccentricity(self):\n",
    "        # this calls an external function. If the attribute has not been initialized above, this will crash.\n",
    "        self.eccentricity = compute_eccentricity(self)\n",
    "    \n",
    "    def load_diameter(self):\n",
    "        self.diameter = compute_diameter(self)       "
   ]
  },
  {
   "cell_type": "markdown",
   "metadata": {},
   "source": [
    "Let us instantiate a `skin_image` object:"
   ]
  },
  {
   "cell_type": "markdown",
   "metadata": {},
   "source": [
    "**A note of caution:** If some of your features are computationally really expensive to compute, you may want to compute them just once, save them to disk, and write a different load function, like this:"
   ]
  },
  {
   "cell_type": "code",
   "execution_count": 6,
   "metadata": {
    "collapsed": true
   },
   "outputs": [],
   "source": [
    "def load_my_fancy_feature(self):\n",
    "    # my_fancy_eature has been already computed, and stored with the same name as the image \n",
    "    # plus an underscore plus the name of the feature\n",
    "    precomputed_feature_name = self.name[:-4] + '_my_fancy_feature' + '.npy'\n",
    "    self.my_fancy_feature = np.load(precomputed_feature_name)"
   ]
  },
  {
   "cell_type": "markdown",
   "metadata": {},
   "source": [
    "See [here](https://stackoverflow.com/a/37996966/3208255) for a simple example on how to load and save numpy arrays to memory."
   ]
  },
  {
   "cell_type": "code",
   "execution_count": 7,
   "metadata": {
    "collapsed": false
   },
   "outputs": [],
   "source": [
    "image = skin_image(melanoma_im_list[0], 'melanoma');"
   ]
  },
  {
   "cell_type": "markdown",
   "metadata": {
    "collapsed": true
   },
   "source": [
    "At the moment, this object only holds the data, no feature has been computed:"
   ]
  },
  {
   "cell_type": "code",
   "execution_count": 8,
   "metadata": {
    "collapsed": false
   },
   "outputs": [
    {
     "name": "stdout",
     "output_type": "stream",
     "text": [
      "None\n"
     ]
    }
   ],
   "source": [
    "print(image.eccentricity)"
   ]
  },
  {
   "cell_type": "markdown",
   "metadata": {},
   "source": [
    "We can call the `load_eccentricity` method to compute it:"
   ]
  },
  {
   "cell_type": "code",
   "execution_count": 9,
   "metadata": {
    "collapsed": true
   },
   "outputs": [],
   "source": [
    "image.load_eccentricity()"
   ]
  },
  {
   "cell_type": "code",
   "execution_count": 10,
   "metadata": {
    "collapsed": false
   },
   "outputs": [
    {
     "name": "stdout",
     "output_type": "stream",
     "text": [
      "0.5933166263219736\n"
     ]
    }
   ],
   "source": [
    "print(image.eccentricity)"
   ]
  },
  {
   "cell_type": "markdown",
   "metadata": {},
   "source": [
    "Now, you can loop on the training set, load the appropriate features, and build a training set:"
   ]
  },
  {
   "cell_type": "code",
   "execution_count": 11,
   "metadata": {
    "collapsed": false
   },
   "outputs": [
    {
     "name": "stdout",
     "output_type": "stream",
     "text": [
      "1 / 502\n",
      "11 / 502\n",
      "21 / 502\n",
      "31 / 502\n",
      "41 / 502\n",
      "51 / 502\n",
      "61 / 502\n",
      "71 / 502\n",
      "81 / 502\n",
      "91 / 502\n",
      "101 / 502\n",
      "111 / 502\n",
      "121 / 502\n",
      "131 / 502\n",
      "141 / 502\n",
      "151 / 502\n",
      "161 / 502\n",
      "171 / 502\n",
      "181 / 502\n",
      "191 / 502\n",
      "201 / 502\n",
      "204 / 502\n",
      "214 / 502\n",
      "224 / 502\n",
      "234 / 502\n",
      "244 / 502\n",
      "254 / 502\n",
      "264 / 502\n",
      "274 / 502\n",
      "284 / 502\n",
      "294 / 502\n",
      "304 / 502\n",
      "314 / 502\n",
      "324 / 502\n",
      "334 / 502\n",
      "344 / 502\n",
      "354 / 502\n",
      "364 / 502\n",
      "374 / 502\n",
      "384 / 502\n",
      "394 / 502\n",
      "404 / 502\n",
      "414 / 502\n",
      "424 / 502\n",
      "434 / 502\n",
      "444 / 502\n",
      "454 / 502\n",
      "464 / 502\n",
      "474 / 502\n",
      "484 / 502\n",
      "494 / 502\n"
     ]
    }
   ],
   "source": [
    "nr_melanoma_ims = len(melanoma_im_list)\n",
    "nr_keratosis_ims = len(keratosis_im_list)\n",
    "nr_ims = nr_melanoma_ims +  nr_keratosis_ims\n",
    "\n",
    "\n",
    "nr_features = 2 # eccentricity and diameter\n",
    "\n",
    "X = np.zeros([nr_ims, nr_features])\n",
    "\n",
    "for i in range(nr_keratosis_ims):\n",
    "    im_name = keratosis_im_list[i]\n",
    "    image = skin_image(im_name, 'keratosis');\n",
    "    \n",
    "    # Load eccentricity and diameter\n",
    "    image.load_eccentricity()\n",
    "    image.load_diameter()\n",
    "    \n",
    "    # Now they are available and we store them in X\n",
    "    X[i,0] = image.eccentricity\n",
    "    X[i,1] = image.diameter\n",
    "    if i%10 == 0:\n",
    "        print(i+1, '/', nr_ims)  \n",
    "\n",
    "for i in range(nr_melanoma_ims):\n",
    "    im_name = melanoma_im_list[i]\n",
    "    image = skin_image(im_name, 'melanoma');\n",
    "    \n",
    "    # Load eccentricity and diameter\n",
    "    image.load_eccentricity()\n",
    "    image.load_diameter()\n",
    "    \n",
    "    # Now they are available and we store them in X\n",
    "    X[nr_keratosis_ims + i,0] = image.eccentricity\n",
    "    X[nr_keratosis_ims + i,1] = image.diameter\n",
    "    if i%10 == 0:\n",
    "        print(nr_keratosis_ims + i +1, '/', nr_ims)  "
   ]
  },
  {
   "cell_type": "markdown",
   "metadata": {},
   "source": [
    "We know that the first `nr_melanoma_ims` were positive examples, so we assign them a one, and we also assign a zero to the keratosis images in our ground-truth vector `y`."
   ]
  },
  {
   "cell_type": "code",
   "execution_count": 12,
   "metadata": {
    "collapsed": false
   },
   "outputs": [],
   "source": [
    "y_melanoma = np.ones(nr_melanoma_ims)\n",
    "y_keratosis = np.zeros(nr_keratosis_ims)\n",
    "y = np.hstack([y_melanoma, y_keratosis])"
   ]
  },
  {
   "cell_type": "markdown",
   "metadata": {},
   "source": [
    "Let us scale the features:"
   ]
  },
  {
   "cell_type": "code",
   "execution_count": 13,
   "metadata": {
    "collapsed": false
   },
   "outputs": [],
   "source": [
    "from sklearn.preprocessing import StandardScaler\n",
    "\n",
    "X = StandardScaler().fit_transform(X)"
   ]
  },
  {
   "cell_type": "markdown",
   "metadata": {},
   "source": [
    "We can visually inspect if these two features are enough to separate the images into melanoma and keratosis"
   ]
  },
  {
   "cell_type": "code",
   "execution_count": 14,
   "metadata": {
    "collapsed": false
   },
   "outputs": [
    {
     "data": {
      "image/png": "[encoded data removed]",
      "text/plain": [
       "<matplotlib.figure.Figure at 0x7f96a8e52fd0>"
      ]
     },
     "metadata": {},
     "output_type": "display_data"
    }
   ],
   "source": [
    "plt.scatter(X[:nr_melanoma_ims,0],X[:nr_melanoma_ims,1], c= 'r')\n",
    "plt.scatter(X[nr_melanoma_ims:,0],X[nr_melanoma_ims:,1], c= 'b')\n",
    "plt.show()"
   ]
  },
  {
   "cell_type": "markdown",
   "metadata": {},
   "source": [
    "We split the training set into a training and a validation set:"
   ]
  },
  {
   "cell_type": "code",
   "execution_count": 15,
   "metadata": {
    "collapsed": false
   },
   "outputs": [],
   "source": [
    "from sklearn.model_selection import train_test_split\n",
    "\n",
    "X_train, X_val, y_train, y_val = train_test_split(X, y, test_size=0.33)"
   ]
  },
  {
   "cell_type": "markdown",
   "metadata": {},
   "source": [
    "Now we can train, for example, an SVM on the training set, and compute its performance on the validation set:"
   ]
  },
  {
   "cell_type": "code",
   "execution_count": 16,
   "metadata": {
    "collapsed": false
   },
   "outputs": [
    {
     "data": {
      "text/plain": [
       "0.6506024096385542"
      ]
     },
     "execution_count": 16,
     "metadata": {},
     "output_type": "execute_result"
    }
   ],
   "source": [
    "from sklearn import svm\n",
    "gamma = 2 # SVM RBF radius\n",
    "svc_kernel = svm.SVC(kernel='rbf', gamma=gamma, decision_function_shape='ovr', probability=True)\n",
    "svc_kernel.fit(X_train, y_train)\n",
    "svc_kernel.score(X_val, y_val)"
   ]
  },
  {
   "cell_type": "markdown",
   "metadata": {},
   "source": [
    "Not really good. Your goal is to improve this result by designing better (more discriminative) features, and investigating if a better classifier (or this one, by cross-validated to find out a better hyperparameter configuration) can improve performance."
   ]
  },
  {
   "cell_type": "markdown",
   "metadata": {},
   "source": [
    "Below you can find some code to visualize the results and do some pretty plots (notice these plots will only be possible with two features (two-dimensional feature space), but it gives you an idea of what is going on above):"
   ]
  },
  {
   "cell_type": "code",
   "execution_count": 17,
   "metadata": {
    "collapsed": true
   },
   "outputs": [],
   "source": [
    "def make_meshgrid(x, y, h=.02):\n",
    "    \"\"\"Create a mesh of points to plot in\n",
    "\n",
    "    Parameters\n",
    "    ----------\n",
    "    x: data to base x-axis meshgrid on\n",
    "    y: data to base y-axis meshgrid on\n",
    "    h: stepsize for meshgrid, optional\n",
    "\n",
    "    Returns\n",
    "    -------\n",
    "    xx, yy : ndarray\n",
    "    \"\"\"\n",
    "    x_min, x_max = x.min() - 1, x.max() + 1\n",
    "    y_min, y_max = y.min() - 1, y.max() + 1\n",
    "    xx, yy = np.meshgrid(np.arange(x_min, x_max, h),\n",
    "                         np.arange(y_min, y_max, h))\n",
    "    return xx, yy"
   ]
  },
  {
   "cell_type": "code",
   "execution_count": 18,
   "metadata": {
    "collapsed": true
   },
   "outputs": [],
   "source": [
    "def plot_contours(clf, xx, yy, **params):\n",
    "    \"\"\"Plot the decision boundaries for a classifier.\n",
    "\n",
    "    Parameters\n",
    "    ----------\n",
    "    clf: a classifier\n",
    "    xx: meshgrid ndarray\n",
    "    yy: meshgrid ndarray\n",
    "    params: dictionary of params to pass to contourf, optional\n",
    "    \"\"\"\n",
    "    Z = clf.predict(np.c_[xx.ravel(), yy.ravel()])\n",
    "    Z = Z.reshape(xx.shape)\n",
    "    plt.contourf(xx, yy, Z, cmap=plt.cm.coolwarm, alpha=0.65, **params)\n"
   ]
  },
  {
   "cell_type": "code",
   "execution_count": 19,
   "metadata": {
    "collapsed": false
   },
   "outputs": [
    {
     "data": {
      "image/png": "[encoded data removed]",
      "text/plain": [
       "<matplotlib.figure.Figure at 0x7f96a66e03c8>"
      ]
     },
     "metadata": {},
     "output_type": "display_data"
    }
   ],
   "source": [
    "X0, X1 = X[:, 0], X[:, 1]\n",
    "xx, yy = make_meshgrid(X0, X1)\n",
    "plt.figure(figsize=(12,7))\n",
    "plot_contours(svc_kernel, xx, yy)\n",
    "plt.scatter(X0, X1, c=y, cmap=plt.cm.coolwarm, s=50, edgecolors='k')\n",
    "plt.show()"
   ]
  },
  {
   "cell_type": "markdown",
   "metadata": {
    "collapsed": true
   },
   "source": [
    "# Computing the Results you need to submit\n",
    "Once you are happy with the result of your classifier, you need to apply it to build predictions on the test set, for which only me has the result. I expect from you a csv file with the name of the image in the first column, and the predicted diagnosis in the second one. The prediction should be a number in between zero and 1, being 1 that your model is sure of the image containing a melanoma. "
   ]
  },
  {
   "cell_type": "code",
   "execution_count": 20,
   "metadata": {
    "collapsed": true
   },
   "outputs": [],
   "source": [
    "path_to_test_ims = 'data/test_data/images/'\n",
    "path_to_test_masks = 'data/test_data/masks/'"
   ]
  },
  {
   "cell_type": "markdown",
   "metadata": {},
   "source": [
    "This is **critical**: the images in the test set must undergo **exactly** the same process as the images you used for training. This involves computing exactly the same features, but also pre-processing the images in exactly the same way (if you are doing some pre-processing), and scaling the features, reducing the dimensionality or whichever other process you have done when training. Your model must see the same description in test than in train time, otherwise the predictions won't make sense!"
   ]
  },
  {
   "cell_type": "code",
   "execution_count": 21,
   "metadata": {
    "collapsed": false
   },
   "outputs": [
    {
     "name": "stdout",
     "output_type": "stream",
     "text": [
      "1 / 126\n",
      "11 / 126\n",
      "21 / 126\n",
      "31 / 126\n",
      "41 / 126\n",
      "51 / 126\n",
      "61 / 126\n",
      "71 / 126\n",
      "81 / 126\n",
      "91 / 126\n",
      "101 / 126\n",
      "111 / 126\n",
      "121 / 126\n"
     ]
    }
   ],
   "source": [
    "test_im_list = os.listdir(path_to_test_ims)\n",
    "\n",
    "nr_test_ims = len(test_im_list)\n",
    "nr_features = 2 # eccentricity and diameter\n",
    "\n",
    "X_test = np.zeros([nr_test_ims, nr_features])\n",
    "\n",
    "for i in range(nr_test_ims):\n",
    "    im_name = test_im_list[i]\n",
    "    image = skin_image(im_name, 'unkown');\n",
    "    \n",
    "    # Load eccentricity and diameter.\n",
    "    image.load_eccentricity()\n",
    "    image.load_diameter()\n",
    "    \n",
    "    # Now they are available and we store them in X\n",
    "    X_test[i,0] = image.eccentricity\n",
    "    X_test[i,1] = image.diameter\n",
    "    if i%10 == 0:\n",
    "        print(i+1, '/', nr_test_ims)  "
   ]
  },
  {
   "cell_type": "code",
   "execution_count": 22,
   "metadata": {
    "collapsed": true
   },
   "outputs": [],
   "source": [
    "# Need to do exactly the same pre-processing as while training\n",
    "X_test = StandardScaler().fit_transform(X_test)"
   ]
  },
  {
   "cell_type": "markdown",
   "metadata": {},
   "source": [
    "With SVMs, in order to obtain predicted probabilities in the [0,1] interval we need to call their `predict_proba()` method. "
   ]
  },
  {
   "cell_type": "code",
   "execution_count": 23,
   "metadata": {
    "collapsed": true
   },
   "outputs": [],
   "source": [
    "predictions = svc_kernel.predict_proba(X_test)"
   ]
  },
  {
   "cell_type": "markdown",
   "metadata": {},
   "source": [
    "`predict_proba()` is a method by which a classifier outputs the probability of the instance being in each of the classes, so in this case we want the second column:"
   ]
  },
  {
   "cell_type": "code",
   "execution_count": 24,
   "metadata": {
    "collapsed": false
   },
   "outputs": [
    {
     "name": "stdout",
     "output_type": "stream",
     "text": [
      "ISIC_0014615.jpg, 0.580259145503\n",
      "ISIC_0014615.jpg, 0.580417464727\n",
      "ISIC_0014615.jpg, 0.581146548527\n",
      "ISIC_0014615.jpg, 0.580255450946\n",
      "ISIC_0014615.jpg, 0.581043537203\n",
      "ISIC_0014615.jpg, 0.58034885699\n",
      "ISIC_0014615.jpg, 0.580729785612\n",
      "ISIC_0014615.jpg, 0.580710992678\n",
      "ISIC_0014615.jpg, 0.580359464172\n",
      "ISIC_0014615.jpg, 0.580263232554\n",
      "ISIC_0014615.jpg, 0.58023346475\n",
      "ISIC_0014615.jpg, 0.580451531073\n",
      "ISIC_0014615.jpg, 0.582029523334\n",
      "ISIC_0014615.jpg, 0.580368285714\n",
      "ISIC_0014615.jpg, 0.581221281977\n",
      "ISIC_0014615.jpg, 0.580995961709\n",
      "ISIC_0014615.jpg, 0.580346418748\n",
      "ISIC_0014615.jpg, 0.580387920175\n",
      "ISIC_0014615.jpg, 0.580321288926\n",
      "ISIC_0014615.jpg, 0.580473369299\n",
      "ISIC_0014615.jpg, 0.580415693304\n",
      "ISIC_0014615.jpg, 0.580707036765\n",
      "ISIC_0014615.jpg, 0.580747493295\n",
      "ISIC_0014615.jpg, 0.580324070696\n",
      "ISIC_0014615.jpg, 0.581840068883\n",
      "ISIC_0014615.jpg, 0.580533203976\n",
      "ISIC_0014615.jpg, 0.580363448719\n",
      "ISIC_0014615.jpg, 0.581871593531\n",
      "ISIC_0014615.jpg, 0.580648356411\n",
      "ISIC_0014615.jpg, 0.58031935375\n",
      "ISIC_0014615.jpg, 0.580416494458\n",
      "ISIC_0014615.jpg, 0.580299599284\n",
      "ISIC_0014615.jpg, 0.580814766675\n",
      "ISIC_0014615.jpg, 0.581290223736\n",
      "ISIC_0014615.jpg, 0.580869149628\n",
      "ISIC_0014615.jpg, 0.580312925765\n",
      "ISIC_0014615.jpg, 0.58052302929\n",
      "ISIC_0014615.jpg, 0.580276970872\n",
      "ISIC_0014615.jpg, 0.580177979207\n",
      "ISIC_0014615.jpg, 0.580431091073\n",
      "ISIC_0014615.jpg, 0.580361729901\n",
      "ISIC_0014615.jpg, 0.580312906305\n",
      "ISIC_0014615.jpg, 0.580998857106\n",
      "ISIC_0014615.jpg, 0.580354064335\n",
      "ISIC_0014615.jpg, 0.580397762961\n",
      "ISIC_0014615.jpg, 0.580402519411\n",
      "ISIC_0014615.jpg, 0.581251165522\n",
      "ISIC_0014615.jpg, 0.580612346094\n",
      "ISIC_0014615.jpg, 0.581430599808\n",
      "ISIC_0014615.jpg, 0.580332002137\n",
      "ISIC_0014615.jpg, 0.580366980531\n",
      "ISIC_0014615.jpg, 0.580187647057\n",
      "ISIC_0014615.jpg, 0.580456896853\n",
      "ISIC_0014615.jpg, 0.581698261249\n",
      "ISIC_0014615.jpg, 0.58123193363\n",
      "ISIC_0014615.jpg, 0.580853947246\n",
      "ISIC_0014615.jpg, 0.580465767312\n",
      "ISIC_0014615.jpg, 0.580821113995\n",
      "ISIC_0014615.jpg, 0.580465536694\n",
      "ISIC_0014615.jpg, 0.580381334522\n",
      "ISIC_0014615.jpg, 0.581363391775\n",
      "ISIC_0014615.jpg, 0.580728488559\n",
      "ISIC_0014615.jpg, 0.580892593764\n",
      "ISIC_0014615.jpg, 0.580355679419\n",
      "ISIC_0014615.jpg, 0.580374622148\n",
      "ISIC_0014615.jpg, 0.581577912963\n",
      "ISIC_0014615.jpg, 0.580384665855\n",
      "ISIC_0014615.jpg, 0.580170914333\n",
      "ISIC_0014615.jpg, 0.580171176406\n",
      "ISIC_0014615.jpg, 0.580305384528\n",
      "ISIC_0014615.jpg, 0.580357494898\n",
      "ISIC_0014615.jpg, 0.581256101428\n",
      "ISIC_0014615.jpg, 0.580286751248\n",
      "ISIC_0014615.jpg, 0.581305528536\n",
      "ISIC_0014615.jpg, 0.580284331284\n",
      "ISIC_0014615.jpg, 0.58049606764\n",
      "ISIC_0014615.jpg, 0.580907544037\n",
      "ISIC_0014615.jpg, 0.581880383238\n",
      "ISIC_0014615.jpg, 0.580431327749\n",
      "ISIC_0014615.jpg, 0.580676103001\n",
      "ISIC_0014615.jpg, 0.580466244549\n",
      "ISIC_0014615.jpg, 0.580963546979\n",
      "ISIC_0014615.jpg, 0.580548035624\n",
      "ISIC_0014615.jpg, 0.580401504177\n",
      "ISIC_0014615.jpg, 0.580209131875\n",
      "ISIC_0014615.jpg, 0.580172100116\n",
      "ISIC_0014615.jpg, 0.58166045539\n",
      "ISIC_0014615.jpg, 0.580252517553\n",
      "ISIC_0014615.jpg, 0.580865413359\n",
      "ISIC_0014615.jpg, 0.581104094434\n",
      "ISIC_0014615.jpg, 0.580217126303\n",
      "ISIC_0014615.jpg, 0.580290672787\n",
      "ISIC_0014615.jpg, 0.580329099062\n",
      "ISIC_0014615.jpg, 0.581862281206\n",
      "ISIC_0014615.jpg, 0.580479151239\n",
      "ISIC_0014615.jpg, 0.580833682464\n",
      "ISIC_0014615.jpg, 0.580495506034\n",
      "ISIC_0014615.jpg, 0.58017905583\n",
      "ISIC_0014615.jpg, 0.581605149527\n",
      "ISIC_0014615.jpg, 0.580691065713\n",
      "ISIC_0014615.jpg, 0.580529486672\n",
      "ISIC_0014615.jpg, 0.580786704239\n",
      "ISIC_0014615.jpg, 0.580313037145\n",
      "ISIC_0014615.jpg, 0.580293484603\n",
      "ISIC_0014615.jpg, 0.580345862674\n",
      "ISIC_0014615.jpg, 0.580741348478\n",
      "ISIC_0014615.jpg, 0.580668266021\n",
      "ISIC_0014615.jpg, 0.580575397136\n",
      "ISIC_0014615.jpg, 0.580218025855\n",
      "ISIC_0014615.jpg, 0.580329619443\n",
      "ISIC_0014615.jpg, 0.580526041745\n",
      "ISIC_0014615.jpg, 0.580745007689\n",
      "ISIC_0014615.jpg, 0.58038551247\n",
      "ISIC_0014615.jpg, 0.580426094519\n",
      "ISIC_0014615.jpg, 0.581946669136\n",
      "ISIC_0014615.jpg, 0.580420439731\n",
      "ISIC_0014615.jpg, 0.580176706364\n",
      "ISIC_0014615.jpg, 0.581167647784\n",
      "ISIC_0014615.jpg, 0.580421263665\n",
      "ISIC_0014615.jpg, 0.580240376245\n",
      "ISIC_0014615.jpg, 0.580720692767\n",
      "ISIC_0014615.jpg, 0.580539149634\n",
      "ISIC_0014615.jpg, 0.580248777802\n",
      "ISIC_0014615.jpg, 0.58114396563\n",
      "ISIC_0014615.jpg, 0.580509977672\n",
      "ISIC_0014615.jpg, 0.581398932328\n"
     ]
    }
   ],
   "source": [
    "# define the name of your group here\n",
    "group_name = 'adrian_galdran'\n",
    "\n",
    "with open(group_name+'_solution.csv','w') as file:\n",
    "    for i in range(nr_test_ims):\n",
    "        line = im_name + ', ' +str(predictions[i,1])\n",
    "        print(line)\n",
    "        file.write(line)\n",
    "        file.write('\\n')"
   ]
  },
  {
   "cell_type": "markdown",
   "metadata": {},
   "source": [
    "After receiving your submission, I will compare your predictions with the groundtruth, and send you back an ROC curve and some numerical performance results to include in your final report."
   ]
  }
 ],
 "metadata": {
  "anaconda-cloud": {},
  "kernelspec": {
   "display_name": "Python [conda env:DACO]",
   "language": "python",
   "name": "conda-env-DACO-py"
  },
  "language_info": {
   "codemirror_mode": {
    "name": "ipython",
    "version": 3
   },
   "file_extension": ".py",
   "mimetype": "text/x-python",
   "name": "python",
   "nbconvert_exporter": "python",
   "pygments_lexer": "ipython3",
   "version": "3.4.5"
  }
 },
 "nbformat": 4,
 "nbformat_minor": 1
}
